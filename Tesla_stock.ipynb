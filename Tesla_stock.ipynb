{
 "cells": [
  {
   "cell_type": "code",
   "execution_count": 82,
   "metadata": {},
   "outputs": [],
   "source": [
    "import pandas as pd\n",
    "import numpy as np\n",
    "import matplotlib.pyplot as plt"
   ]
  },
  {
   "cell_type": "code",
   "execution_count": 83,
   "metadata": {},
   "outputs": [],
   "source": [
    "df = pd.read_csv(\"tesla-stocks-data.csv\")"
   ]
  },
  {
   "cell_type": "code",
   "execution_count": 84,
   "metadata": {},
   "outputs": [
    {
     "data": {
      "text/html": [
       "<div>\n",
       "<style scoped>\n",
       "    .dataframe tbody tr th:only-of-type {\n",
       "        vertical-align: middle;\n",
       "    }\n",
       "\n",
       "    .dataframe tbody tr th {\n",
       "        vertical-align: top;\n",
       "    }\n",
       "\n",
       "    .dataframe thead th {\n",
       "        text-align: right;\n",
       "    }\n",
       "</style>\n",
       "<table border=\"1\" class=\"dataframe\">\n",
       "  <thead>\n",
       "    <tr style=\"text-align: right;\">\n",
       "      <th></th>\n",
       "      <th>Date</th>\n",
       "      <th>Close/Last</th>\n",
       "      <th>Volume</th>\n",
       "      <th>Open</th>\n",
       "      <th>High</th>\n",
       "      <th>Low</th>\n",
       "    </tr>\n",
       "  </thead>\n",
       "  <tbody>\n",
       "    <tr>\n",
       "      <th>0</th>\n",
       "      <td>07/29/2020</td>\n",
       "      <td>$1499.11</td>\n",
       "      <td>9426893</td>\n",
       "      <td>$1501</td>\n",
       "      <td>$1534.81</td>\n",
       "      <td>$1487</td>\n",
       "    </tr>\n",
       "    <tr>\n",
       "      <th>1</th>\n",
       "      <td>07/28/2020</td>\n",
       "      <td>$1476.49</td>\n",
       "      <td>15808700</td>\n",
       "      <td>$1504</td>\n",
       "      <td>$1564.7</td>\n",
       "      <td>$1474.42</td>\n",
       "    </tr>\n",
       "    <tr>\n",
       "      <th>2</th>\n",
       "      <td>07/27/2020</td>\n",
       "      <td>$1539.6</td>\n",
       "      <td>16048670</td>\n",
       "      <td>$1435</td>\n",
       "      <td>$1547.94</td>\n",
       "      <td>$1413.0003</td>\n",
       "    </tr>\n",
       "  </tbody>\n",
       "</table>\n",
       "</div>"
      ],
      "text/plain": [
       "         Date  Close/Last    Volume    Open       High          Low\n",
       "0  07/29/2020    $1499.11   9426893   $1501   $1534.81        $1487\n",
       "1  07/28/2020    $1476.49  15808700   $1504    $1564.7     $1474.42\n",
       "2  07/27/2020     $1539.6  16048670   $1435   $1547.94   $1413.0003"
      ]
     },
     "execution_count": 84,
     "metadata": {},
     "output_type": "execute_result"
    }
   ],
   "source": [
    "df.head(3)"
   ]
  },
  {
   "cell_type": "code",
   "execution_count": 85,
   "metadata": {},
   "outputs": [
    {
     "data": {
      "text/plain": [
       "Index(['Date', ' Close/Last', ' Volume', ' Open', ' High', ' Low'], dtype='object')"
      ]
     },
     "execution_count": 85,
     "metadata": {},
     "output_type": "execute_result"
    }
   ],
   "source": [
    "df.columns"
   ]
  },
  {
   "cell_type": "code",
   "execution_count": 86,
   "metadata": {},
   "outputs": [
    {
     "data": {
      "text/plain": [
       "Date           object\n",
       " Close/Last    object\n",
       " Volume         int64\n",
       " Open          object\n",
       " High          object\n",
       " Low           object\n",
       "dtype: object"
      ]
     },
     "execution_count": 86,
     "metadata": {},
     "output_type": "execute_result"
    }
   ],
   "source": [
    "df.dtypes"
   ]
  },
  {
   "cell_type": "code",
   "execution_count": 87,
   "metadata": {
    "scrolled": true
   },
   "outputs": [
    {
     "data": {
      "text/html": [
       "<div>\n",
       "<style scoped>\n",
       "    .dataframe tbody tr th:only-of-type {\n",
       "        vertical-align: middle;\n",
       "    }\n",
       "\n",
       "    .dataframe tbody tr th {\n",
       "        vertical-align: top;\n",
       "    }\n",
       "\n",
       "    .dataframe thead th {\n",
       "        text-align: right;\n",
       "    }\n",
       "</style>\n",
       "<table border=\"1\" class=\"dataframe\">\n",
       "  <thead>\n",
       "    <tr style=\"text-align: right;\">\n",
       "      <th></th>\n",
       "      <th>Date</th>\n",
       "      <th>Close/Last</th>\n",
       "      <th>Volume</th>\n",
       "      <th>Open</th>\n",
       "      <th>High</th>\n",
       "      <th>Low</th>\n",
       "    </tr>\n",
       "  </thead>\n",
       "  <tbody>\n",
       "    <tr>\n",
       "      <th>0</th>\n",
       "      <td>2020-07-29</td>\n",
       "      <td>$1499.11</td>\n",
       "      <td>9426893</td>\n",
       "      <td>$1501</td>\n",
       "      <td>$1534.81</td>\n",
       "      <td>$1487</td>\n",
       "    </tr>\n",
       "    <tr>\n",
       "      <th>1</th>\n",
       "      <td>2020-07-28</td>\n",
       "      <td>$1476.49</td>\n",
       "      <td>15808700</td>\n",
       "      <td>$1504</td>\n",
       "      <td>$1564.7</td>\n",
       "      <td>$1474.42</td>\n",
       "    </tr>\n",
       "    <tr>\n",
       "      <th>2</th>\n",
       "      <td>2020-07-27</td>\n",
       "      <td>$1539.6</td>\n",
       "      <td>16048670</td>\n",
       "      <td>$1435</td>\n",
       "      <td>$1547.94</td>\n",
       "      <td>$1413.0003</td>\n",
       "    </tr>\n",
       "  </tbody>\n",
       "</table>\n",
       "</div>"
      ],
      "text/plain": [
       "        Date  Close/Last    Volume    Open       High          Low\n",
       "0 2020-07-29    $1499.11   9426893   $1501   $1534.81        $1487\n",
       "1 2020-07-28    $1476.49  15808700   $1504    $1564.7     $1474.42\n",
       "2 2020-07-27     $1539.6  16048670   $1435   $1547.94   $1413.0003"
      ]
     },
     "execution_count": 87,
     "metadata": {},
     "output_type": "execute_result"
    }
   ],
   "source": [
    "df.Date = pd.to_datetime(df.Date)\n",
    "df.head(3)"
   ]
  },
  {
   "cell_type": "code",
   "execution_count": 88,
   "metadata": {},
   "outputs": [
    {
     "data": {
      "text/plain": [
       "Date           datetime64[ns]\n",
       " Close/Last            object\n",
       " Volume                 int64\n",
       " Open                  object\n",
       " High                  object\n",
       " Low                   object\n",
       "dtype: object"
      ]
     },
     "execution_count": 88,
     "metadata": {},
     "output_type": "execute_result"
    }
   ],
   "source": [
    "df.dtypes"
   ]
  },
  {
   "cell_type": "code",
   "execution_count": 89,
   "metadata": {},
   "outputs": [],
   "source": [
    "df[' Close/Last'] = df[' Close/Last'].str.replace('$', '')\n",
    "df[' Open'] = df[' Open'].str.replace('$', '')\n",
    "df[' High'] = df[' High'].str.replace('$', '')\n",
    "df[' Low'] = df[' Low'].str.replace('$', '')"
   ]
  },
  {
   "cell_type": "code",
   "execution_count": 90,
   "metadata": {},
   "outputs": [
    {
     "data": {
      "text/html": [
       "<div>\n",
       "<style scoped>\n",
       "    .dataframe tbody tr th:only-of-type {\n",
       "        vertical-align: middle;\n",
       "    }\n",
       "\n",
       "    .dataframe tbody tr th {\n",
       "        vertical-align: top;\n",
       "    }\n",
       "\n",
       "    .dataframe thead th {\n",
       "        text-align: right;\n",
       "    }\n",
       "</style>\n",
       "<table border=\"1\" class=\"dataframe\">\n",
       "  <thead>\n",
       "    <tr style=\"text-align: right;\">\n",
       "      <th></th>\n",
       "      <th>Date</th>\n",
       "      <th>Close/Last</th>\n",
       "      <th>Volume</th>\n",
       "      <th>Open</th>\n",
       "      <th>High</th>\n",
       "      <th>Low</th>\n",
       "    </tr>\n",
       "  </thead>\n",
       "  <tbody>\n",
       "    <tr>\n",
       "      <th>0</th>\n",
       "      <td>2020-07-29</td>\n",
       "      <td>1499.11</td>\n",
       "      <td>9426893</td>\n",
       "      <td>1501</td>\n",
       "      <td>1534.81</td>\n",
       "      <td>1487</td>\n",
       "    </tr>\n",
       "    <tr>\n",
       "      <th>1</th>\n",
       "      <td>2020-07-28</td>\n",
       "      <td>1476.49</td>\n",
       "      <td>15808700</td>\n",
       "      <td>1504</td>\n",
       "      <td>1564.7</td>\n",
       "      <td>1474.42</td>\n",
       "    </tr>\n",
       "    <tr>\n",
       "      <th>2</th>\n",
       "      <td>2020-07-27</td>\n",
       "      <td>1539.6</td>\n",
       "      <td>16048670</td>\n",
       "      <td>1435</td>\n",
       "      <td>1547.94</td>\n",
       "      <td>1413.0003</td>\n",
       "    </tr>\n",
       "  </tbody>\n",
       "</table>\n",
       "</div>"
      ],
      "text/plain": [
       "        Date  Close/Last    Volume   Open      High         Low\n",
       "0 2020-07-29     1499.11   9426893   1501   1534.81        1487\n",
       "1 2020-07-28     1476.49  15808700   1504    1564.7     1474.42\n",
       "2 2020-07-27      1539.6  16048670   1435   1547.94   1413.0003"
      ]
     },
     "execution_count": 90,
     "metadata": {},
     "output_type": "execute_result"
    }
   ],
   "source": [
    "df.head(3)"
   ]
  },
  {
   "cell_type": "code",
   "execution_count": 91,
   "metadata": {
    "scrolled": true
   },
   "outputs": [
    {
     "data": {
      "text/html": [
       "<div>\n",
       "<style scoped>\n",
       "    .dataframe tbody tr th:only-of-type {\n",
       "        vertical-align: middle;\n",
       "    }\n",
       "\n",
       "    .dataframe tbody tr th {\n",
       "        vertical-align: top;\n",
       "    }\n",
       "\n",
       "    .dataframe thead th {\n",
       "        text-align: right;\n",
       "    }\n",
       "</style>\n",
       "<table border=\"1\" class=\"dataframe\">\n",
       "  <thead>\n",
       "    <tr style=\"text-align: right;\">\n",
       "      <th></th>\n",
       "      <th>Date</th>\n",
       "      <th>Close_in_Dollar</th>\n",
       "      <th>Volume</th>\n",
       "      <th>Open_in_Dollar</th>\n",
       "      <th>High_in_Dollar</th>\n",
       "      <th>Low_in_Dollar</th>\n",
       "    </tr>\n",
       "  </thead>\n",
       "  <tbody>\n",
       "    <tr>\n",
       "      <th>0</th>\n",
       "      <td>2020-07-29</td>\n",
       "      <td>1499.11</td>\n",
       "      <td>9426893</td>\n",
       "      <td>1501</td>\n",
       "      <td>1534.81</td>\n",
       "      <td>1487</td>\n",
       "    </tr>\n",
       "    <tr>\n",
       "      <th>1</th>\n",
       "      <td>2020-07-28</td>\n",
       "      <td>1476.49</td>\n",
       "      <td>15808700</td>\n",
       "      <td>1504</td>\n",
       "      <td>1564.7</td>\n",
       "      <td>1474.42</td>\n",
       "    </tr>\n",
       "    <tr>\n",
       "      <th>2</th>\n",
       "      <td>2020-07-27</td>\n",
       "      <td>1539.6</td>\n",
       "      <td>16048670</td>\n",
       "      <td>1435</td>\n",
       "      <td>1547.94</td>\n",
       "      <td>1413.0003</td>\n",
       "    </tr>\n",
       "  </tbody>\n",
       "</table>\n",
       "</div>"
      ],
      "text/plain": [
       "        Date Close_in_Dollar    Volume Open_in_Dollar High_in_Dollar  \\\n",
       "0 2020-07-29         1499.11   9426893           1501        1534.81   \n",
       "1 2020-07-28         1476.49  15808700           1504         1564.7   \n",
       "2 2020-07-27          1539.6  16048670           1435        1547.94   \n",
       "\n",
       "  Low_in_Dollar  \n",
       "0          1487  \n",
       "1       1474.42  \n",
       "2     1413.0003  "
      ]
     },
     "execution_count": 91,
     "metadata": {},
     "output_type": "execute_result"
    }
   ],
   "source": [
    "df.rename(columns = {' Close/Last':'Close_in_Dollar',' Open':'Open_in_Dollar',' High':'High_in_Dollar',' Low':'Low_in_Dollar'}, inplace = True)\n",
    "df.head(3)"
   ]
  },
  {
   "cell_type": "code",
   "execution_count": 92,
   "metadata": {},
   "outputs": [
    {
     "data": {
      "text/plain": [
       "Index(['Date', 'Close_in_Dollar', ' Volume', 'Open_in_Dollar',\n",
       "       'High_in_Dollar', 'Low_in_Dollar'],\n",
       "      dtype='object')"
      ]
     },
     "execution_count": 92,
     "metadata": {},
     "output_type": "execute_result"
    }
   ],
   "source": [
    "df.columns"
   ]
  },
  {
   "cell_type": "code",
   "execution_count": 93,
   "metadata": {},
   "outputs": [],
   "source": [
    "df['Close_in_Dollar'] = df.Close_in_Dollar.astype(float)\n",
    "df['Open_in_Dollar'] = df.Open_in_Dollar.astype(float)\n",
    "df['High_in_Dollar'] = df.High_in_Dollar.astype(float)\n",
    "df['Low_in_Dollar'] = df.Low_in_Dollar.astype(float)"
   ]
  },
  {
   "cell_type": "code",
   "execution_count": 94,
   "metadata": {},
   "outputs": [
    {
     "data": {
      "text/html": [
       "<div>\n",
       "<style scoped>\n",
       "    .dataframe tbody tr th:only-of-type {\n",
       "        vertical-align: middle;\n",
       "    }\n",
       "\n",
       "    .dataframe tbody tr th {\n",
       "        vertical-align: top;\n",
       "    }\n",
       "\n",
       "    .dataframe thead th {\n",
       "        text-align: right;\n",
       "    }\n",
       "</style>\n",
       "<table border=\"1\" class=\"dataframe\">\n",
       "  <thead>\n",
       "    <tr style=\"text-align: right;\">\n",
       "      <th></th>\n",
       "      <th>Date</th>\n",
       "      <th>Close_in_Dollar</th>\n",
       "      <th>Volume</th>\n",
       "      <th>Open_in_Dollar</th>\n",
       "      <th>High_in_Dollar</th>\n",
       "      <th>Low_in_Dollar</th>\n",
       "    </tr>\n",
       "  </thead>\n",
       "  <tbody>\n",
       "    <tr>\n",
       "      <th>0</th>\n",
       "      <td>2020-07-29</td>\n",
       "      <td>1499.11</td>\n",
       "      <td>9426893</td>\n",
       "      <td>1501.0</td>\n",
       "      <td>1534.81</td>\n",
       "      <td>1487.0000</td>\n",
       "    </tr>\n",
       "    <tr>\n",
       "      <th>1</th>\n",
       "      <td>2020-07-28</td>\n",
       "      <td>1476.49</td>\n",
       "      <td>15808700</td>\n",
       "      <td>1504.0</td>\n",
       "      <td>1564.70</td>\n",
       "      <td>1474.4200</td>\n",
       "    </tr>\n",
       "    <tr>\n",
       "      <th>2</th>\n",
       "      <td>2020-07-27</td>\n",
       "      <td>1539.60</td>\n",
       "      <td>16048670</td>\n",
       "      <td>1435.0</td>\n",
       "      <td>1547.94</td>\n",
       "      <td>1413.0003</td>\n",
       "    </tr>\n",
       "  </tbody>\n",
       "</table>\n",
       "</div>"
      ],
      "text/plain": [
       "        Date  Close_in_Dollar    Volume  Open_in_Dollar  High_in_Dollar  \\\n",
       "0 2020-07-29          1499.11   9426893          1501.0         1534.81   \n",
       "1 2020-07-28          1476.49  15808700          1504.0         1564.70   \n",
       "2 2020-07-27          1539.60  16048670          1435.0         1547.94   \n",
       "\n",
       "   Low_in_Dollar  \n",
       "0      1487.0000  \n",
       "1      1474.4200  \n",
       "2      1413.0003  "
      ]
     },
     "execution_count": 94,
     "metadata": {},
     "output_type": "execute_result"
    }
   ],
   "source": [
    "df.head(3)"
   ]
  },
  {
   "cell_type": "code",
   "execution_count": 96,
   "metadata": {
    "scrolled": true
   },
   "outputs": [
    {
     "data": {
      "text/plain": [
       "Date               datetime64[ns]\n",
       "Close_in_Dollar           float64\n",
       " Volume                     int64\n",
       "Open_in_Dollar            float64\n",
       "High_in_Dollar            float64\n",
       "Low_in_Dollar             float64\n",
       "dtype: object"
      ]
     },
     "execution_count": 96,
     "metadata": {},
     "output_type": "execute_result"
    }
   ],
   "source": [
    "df.dtypes"
   ]
  },
  {
   "cell_type": "code",
   "execution_count": 97,
   "metadata": {},
   "outputs": [
    {
     "data": {
      "text/plain": [
       "Index(['Date', 'Close_in_Dollar', ' Volume', 'Open_in_Dollar',\n",
       "       'High_in_Dollar', 'Low_in_Dollar'],\n",
       "      dtype='object')"
      ]
     },
     "execution_count": 97,
     "metadata": {},
     "output_type": "execute_result"
    }
   ],
   "source": [
    "df.columns"
   ]
  },
  {
   "cell_type": "code",
   "execution_count": 98,
   "metadata": {},
   "outputs": [],
   "source": [
    "df = df[['Date',' Volume','Open_in_Dollar','Close_in_Dollar','High_in_Dollar','Low_in_Dollar']]"
   ]
  },
  {
   "cell_type": "code",
   "execution_count": 99,
   "metadata": {
    "scrolled": true
   },
   "outputs": [
    {
     "data": {
      "text/html": [
       "<div>\n",
       "<style scoped>\n",
       "    .dataframe tbody tr th:only-of-type {\n",
       "        vertical-align: middle;\n",
       "    }\n",
       "\n",
       "    .dataframe tbody tr th {\n",
       "        vertical-align: top;\n",
       "    }\n",
       "\n",
       "    .dataframe thead th {\n",
       "        text-align: right;\n",
       "    }\n",
       "</style>\n",
       "<table border=\"1\" class=\"dataframe\">\n",
       "  <thead>\n",
       "    <tr style=\"text-align: right;\">\n",
       "      <th></th>\n",
       "      <th>Date</th>\n",
       "      <th>Volume</th>\n",
       "      <th>Open_in_Dollar</th>\n",
       "      <th>Close_in_Dollar</th>\n",
       "      <th>High_in_Dollar</th>\n",
       "      <th>Low_in_Dollar</th>\n",
       "    </tr>\n",
       "  </thead>\n",
       "  <tbody>\n",
       "    <tr>\n",
       "      <th>0</th>\n",
       "      <td>2020-07-29</td>\n",
       "      <td>9426893</td>\n",
       "      <td>1501.0</td>\n",
       "      <td>1499.11</td>\n",
       "      <td>1534.81</td>\n",
       "      <td>1487.0000</td>\n",
       "    </tr>\n",
       "    <tr>\n",
       "      <th>1</th>\n",
       "      <td>2020-07-28</td>\n",
       "      <td>15808700</td>\n",
       "      <td>1504.0</td>\n",
       "      <td>1476.49</td>\n",
       "      <td>1564.70</td>\n",
       "      <td>1474.4200</td>\n",
       "    </tr>\n",
       "    <tr>\n",
       "      <th>2</th>\n",
       "      <td>2020-07-27</td>\n",
       "      <td>16048670</td>\n",
       "      <td>1435.0</td>\n",
       "      <td>1539.60</td>\n",
       "      <td>1547.94</td>\n",
       "      <td>1413.0003</td>\n",
       "    </tr>\n",
       "  </tbody>\n",
       "</table>\n",
       "</div>"
      ],
      "text/plain": [
       "        Date    Volume  Open_in_Dollar  Close_in_Dollar  High_in_Dollar  \\\n",
       "0 2020-07-29   9426893          1501.0          1499.11         1534.81   \n",
       "1 2020-07-28  15808700          1504.0          1476.49         1564.70   \n",
       "2 2020-07-27  16048670          1435.0          1539.60         1547.94   \n",
       "\n",
       "   Low_in_Dollar  \n",
       "0      1487.0000  \n",
       "1      1474.4200  \n",
       "2      1413.0003  "
      ]
     },
     "execution_count": 99,
     "metadata": {},
     "output_type": "execute_result"
    }
   ],
   "source": [
    "df.head(3)"
   ]
  },
  {
   "cell_type": "code",
   "execution_count": 110,
   "metadata": {},
   "outputs": [
    {
     "data": {
      "text/plain": [
       "1794.99"
      ]
     },
     "execution_count": 110,
     "metadata": {},
     "output_type": "execute_result"
    }
   ],
   "source": [
    "df['High_in_Dollar'].max()"
   ]
  },
  {
   "cell_type": "code",
   "execution_count": 109,
   "metadata": {},
   "outputs": [
    {
     "data": {
      "image/png": "[encoded data removed]",
      "text/plain": [
       "<Figure size 432x288 with 1 Axes>"
      ]
     },
     "metadata": {
      "needs_background": "light"
     },
     "output_type": "display_data"
    }
   ],
   "source": [
    "df.plot(x='High_in_Dollar', y='Low_in_Dollar', kind='bar') \n",
    "plt.show()"
   ]
  },
  {
   "cell_type": "code",
   "execution_count": null,
   "metadata": {},
   "outputs": [],
   "source": []
  }
 ],
 "metadata": {
  "kernelspec": {
   "display_name": "Python 3",
   "language": "python",
   "name": "python3"
  },
  "language_info": {
   "codemirror_mode": {
    "name": "ipython",
    "version": 3
   },
   "file_extension": ".py",
   "mimetype": "text/x-python",
   "name": "python",
   "nbconvert_exporter": "python",
   "pygments_lexer": "ipython3",
   "version": "3.8.3"
  }
 },
 "nbformat": 4,
 "nbformat_minor": 4
}
